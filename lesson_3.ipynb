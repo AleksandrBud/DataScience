{
 "cells": [
  {
   "cell_type": "code",
   "execution_count": 2,
   "metadata": {},
   "outputs": [],
   "source": [
    "import numpy as np\n",
    "import pandas as pd"
   ]
  },
  {
   "cell_type": "code",
   "execution_count": 3,
   "metadata": {},
   "outputs": [],
   "source": [
    "from sklearn.datasets import load_boston"
   ]
  },
  {
   "cell_type": "code",
   "execution_count": 5,
   "metadata": {},
   "outputs": [],
   "source": [
    "boston = load_boston()"
   ]
  },
  {
   "cell_type": "code",
   "execution_count": 6,
   "metadata": {},
   "outputs": [],
   "source": [
    "data = boston[\"data\"]"
   ]
  },
  {
   "cell_type": "code",
   "execution_count": 8,
   "metadata": {},
   "outputs": [],
   "source": [
    "feature_names = boston[\"feature_names\"]"
   ]
  },
  {
   "cell_type": "code",
   "execution_count": 9,
   "metadata": {},
   "outputs": [],
   "source": [
    "X = pd.DataFrame(data, columns=feature_names)"
   ]
  },
  {
   "cell_type": "code",
   "execution_count": 12,
   "metadata": {},
   "outputs": [],
   "source": [
    "target = boston[\"target\"]"
   ]
  },
  {
   "cell_type": "code",
   "execution_count": 13,
   "metadata": {},
   "outputs": [],
   "source": [
    "y = pd.DataFrame(target, columns=[\"price\"])"
   ]
  },
  {
   "cell_type": "code",
   "execution_count": 14,
   "metadata": {},
   "outputs": [],
   "source": [
    "from sklearn.model_selection import train_test_split"
   ]
  },
  {
   "cell_type": "code",
   "execution_count": 15,
   "metadata": {},
   "outputs": [],
   "source": [
    "X_train, X_test, y_train, y_test = train_test_split(X, y, test_size=0.3, random_state=42)"
   ]
  },
  {
   "cell_type": "code",
   "execution_count": 16,
   "metadata": {},
   "outputs": [],
   "source": [
    "from sklearn.linear_model import LinearRegression"
   ]
  },
  {
   "cell_type": "code",
   "execution_count": 17,
   "metadata": {},
   "outputs": [],
   "source": [
    "lr = LinearRegression()"
   ]
  },
  {
   "cell_type": "code",
   "execution_count": 18,
   "metadata": {},
   "outputs": [
    {
     "data": {
      "text/plain": [
       "LinearRegression(copy_X=True, fit_intercept=True, n_jobs=None,\n",
       "         normalize=False)"
      ]
     },
     "execution_count": 18,
     "metadata": {},
     "output_type": "execute_result"
    }
   ],
   "source": [
    "lr.fit(X_train, y_train)"
   ]
  },
  {
   "cell_type": "code",
   "execution_count": 19,
   "metadata": {},
   "outputs": [],
   "source": [
    "y_pred = lr.predict(X_test)"
   ]
  },
  {
   "cell_type": "code",
   "execution_count": 20,
   "metadata": {},
   "outputs": [],
   "source": [
    "from sklearn.metrics import r2_score"
   ]
  },
  {
   "cell_type": "code",
   "execution_count": 21,
   "metadata": {},
   "outputs": [
    {
     "data": {
      "text/plain": [
       "0.7112260057484878"
      ]
     },
     "execution_count": 21,
     "metadata": {},
     "output_type": "execute_result"
    }
   ],
   "source": [
    " r2_score(y_test, y_pred) "
   ]
  },
  {
   "cell_type": "code",
   "execution_count": 22,
   "metadata": {},
   "outputs": [],
   "source": [
    "from sklearn.ensemble import RandomForestRegressor"
   ]
  },
  {
   "cell_type": "code",
   "execution_count": 23,
   "metadata": {},
   "outputs": [],
   "source": [
    "model =  RandomForestRegressor(n_estimators=1000,\n",
    "                               max_depth=12,\n",
    "                               random_state=42)"
   ]
  },
  {
   "cell_type": "code",
   "execution_count": 34,
   "metadata": {},
   "outputs": [],
   "source": [
    "y2_train = np.ravel(y_train)"
   ]
  },
  {
   "cell_type": "code",
   "execution_count": 36,
   "metadata": {},
   "outputs": [
    {
     "data": {
      "text/plain": [
       "RandomForestRegressor(bootstrap=True, criterion='mse', max_depth=12,\n",
       "           max_features='auto', max_leaf_nodes=None,\n",
       "           min_impurity_decrease=0.0, min_impurity_split=None,\n",
       "           min_samples_leaf=1, min_samples_split=2,\n",
       "           min_weight_fraction_leaf=0.0, n_estimators=1000, n_jobs=None,\n",
       "           oob_score=False, random_state=42, verbose=0, warm_start=False)"
      ]
     },
     "execution_count": 36,
     "metadata": {},
     "output_type": "execute_result"
    }
   ],
   "source": [
    "model.fit(X_train, y2_train)"
   ]
  },
  {
   "cell_type": "code",
   "execution_count": 37,
   "metadata": {},
   "outputs": [],
   "source": [
    "y_pred2 = model.predict(X_test)"
   ]
  },
  {
   "cell_type": "code",
   "execution_count": 38,
   "metadata": {},
   "outputs": [],
   "source": [
    "y2_test = np.ravel(y_test)"
   ]
  },
  {
   "cell_type": "code",
   "execution_count": 39,
   "metadata": {},
   "outputs": [
    {
     "data": {
      "text/plain": [
       "0.8749965273218174"
      ]
     },
     "execution_count": 39,
     "metadata": {},
     "output_type": "execute_result"
    }
   ],
   "source": [
    "r2_score(y2_test, y_pred2)"
   ]
  },
  {
   "cell_type": "code",
   "execution_count": 40,
   "metadata": {},
   "outputs": [
    {
     "data": {
      "text/plain": [
       "0.7112260057484878"
      ]
     },
     "execution_count": 40,
     "metadata": {},
     "output_type": "execute_result"
    }
   ],
   "source": [
    " r2_score(y_test, y_pred)"
   ]
  },
  {
   "cell_type": "markdown",
   "metadata": {},
   "source": [
    "Модель RandomForestRegressor работает лучше т.к. показатель r2 у нее ближе к 1."
   ]
  },
  {
   "cell_type": "code",
   "execution_count": 47,
   "metadata": {},
   "outputs": [
    {
     "data": {
      "text/plain": [
       "'A random forest regressor.\\n\\n    A random forest is a meta estimator that fits a number of classifying\\n    decision trees on various sub-samples of the dataset and uses averaging\\n    to improve the predictive accuracy and control over-fitting.\\n    The sub-sample size is always the same as the original\\n    input sample size but the samples are drawn with replacement if\\n    `bootstrap=True` (default).\\n\\n    Read more in the :ref:`User Guide <forest>`.\\n\\n    Parameters\\n    ----------\\n    n_estimators : integer, optional (default=10)\\n        The number of trees in the forest.\\n\\n        .. versionchanged:: 0.20\\n           The default value of ``n_estimators`` will change from 10 in\\n           version 0.20 to 100 in version 0.22.\\n\\n    criterion : string, optional (default=\"mse\")\\n        The function to measure the quality of a split. Supported criteria\\n        are \"mse\" for the mean squared error, which is equal to variance\\n        reduction as feature selection criterion, and \"mae\" for the mean\\n        absolute error.\\n\\n        .. versionadded:: 0.18\\n           Mean Absolute Error (MAE) criterion.\\n\\n    max_depth : integer or None, optional (default=None)\\n        The maximum depth of the tree. If None, then nodes are expanded until\\n        all leaves are pure or until all leaves contain less than\\n        min_samples_split samples.\\n\\n    min_samples_split : int, float, optional (default=2)\\n        The minimum number of samples required to split an internal node:\\n\\n        - If int, then consider `min_samples_split` as the minimum number.\\n        - If float, then `min_samples_split` is a fraction and\\n          `ceil(min_samples_split * n_samples)` are the minimum\\n          number of samples for each split.\\n\\n        .. versionchanged:: 0.18\\n           Added float values for fractions.\\n\\n    min_samples_leaf : int, float, optional (default=1)\\n        The minimum number of samples required to be at a leaf node.\\n        A split point at any depth will only be considered if it leaves at\\n        least ``min_samples_leaf`` training samples in each of the left and\\n        right branches.  This may have the effect of smoothing the model,\\n        especially in regression.\\n\\n        - If int, then consider `min_samples_leaf` as the minimum number.\\n        - If float, then `min_samples_leaf` is a fraction and\\n          `ceil(min_samples_leaf * n_samples)` are the minimum\\n          number of samples for each node.\\n\\n        .. versionchanged:: 0.18\\n           Added float values for fractions.\\n\\n    min_weight_fraction_leaf : float, optional (default=0.)\\n        The minimum weighted fraction of the sum total of weights (of all\\n        the input samples) required to be at a leaf node. Samples have\\n        equal weight when sample_weight is not provided.\\n\\n    max_features : int, float, string or None, optional (default=\"auto\")\\n        The number of features to consider when looking for the best split:\\n\\n        - If int, then consider `max_features` features at each split.\\n        - If float, then `max_features` is a fraction and\\n          `int(max_features * n_features)` features are considered at each\\n          split.\\n        - If \"auto\", then `max_features=n_features`.\\n        - If \"sqrt\", then `max_features=sqrt(n_features)`.\\n        - If \"log2\", then `max_features=log2(n_features)`.\\n        - If None, then `max_features=n_features`.\\n\\n        Note: the search for a split does not stop until at least one\\n        valid partition of the node samples is found, even if it requires to\\n        effectively inspect more than ``max_features`` features.\\n\\n    max_leaf_nodes : int or None, optional (default=None)\\n        Grow trees with ``max_leaf_nodes`` in best-first fashion.\\n        Best nodes are defined as relative reduction in impurity.\\n        If None then unlimited number of leaf nodes.\\n\\n    min_impurity_decrease : float, optional (default=0.)\\n        A node will be split if this split induces a decrease of the impurity\\n        greater than or equal to this value.\\n\\n        The weighted impurity decrease equation is the following::\\n\\n            N_t / N * (impurity - N_t_R / N_t * right_impurity\\n                                - N_t_L / N_t * left_impurity)\\n\\n        where ``N`` is the total number of samples, ``N_t`` is the number of\\n        samples at the current node, ``N_t_L`` is the number of samples in the\\n        left child, and ``N_t_R`` is the number of samples in the right child.\\n\\n        ``N``, ``N_t``, ``N_t_R`` and ``N_t_L`` all refer to the weighted sum,\\n        if ``sample_weight`` is passed.\\n\\n        .. versionadded:: 0.19\\n\\n    min_impurity_split : float, (default=1e-7)\\n        Threshold for early stopping in tree growth. A node will split\\n        if its impurity is above the threshold, otherwise it is a leaf.\\n\\n        .. deprecated:: 0.19\\n           ``min_impurity_split`` has been deprecated in favor of\\n           ``min_impurity_decrease`` in 0.19. The default value of\\n           ``min_impurity_split`` will change from 1e-7 to 0 in 0.23 and it\\n           will be removed in 0.25. Use ``min_impurity_decrease`` instead.\\n\\n    bootstrap : boolean, optional (default=True)\\n        Whether bootstrap samples are used when building trees. If False, the\\n        whole datset is used to build each tree.\\n\\n    oob_score : bool, optional (default=False)\\n        whether to use out-of-bag samples to estimate\\n        the R^2 on unseen data.\\n\\n    n_jobs : int or None, optional (default=None)\\n        The number of jobs to run in parallel for both `fit` and `predict`.\\n        `None`` means 1 unless in a :obj:`joblib.parallel_backend` context.\\n        ``-1`` means using all processors. See :term:`Glossary <n_jobs>`\\n        for more details.\\n\\n    random_state : int, RandomState instance or None, optional (default=None)\\n        If int, random_state is the seed used by the random number generator;\\n        If RandomState instance, random_state is the random number generator;\\n        If None, the random number generator is the RandomState instance used\\n        by `np.random`.\\n\\n    verbose : int, optional (default=0)\\n        Controls the verbosity when fitting and predicting.\\n\\n    warm_start : bool, optional (default=False)\\n        When set to ``True``, reuse the solution of the previous call to fit\\n        and add more estimators to the ensemble, otherwise, just fit a whole\\n        new forest. See :term:`the Glossary <warm_start>`.\\n\\n    Attributes\\n    ----------\\n    estimators_ : list of DecisionTreeRegressor\\n        The collection of fitted sub-estimators.\\n\\n    feature_importances_ : array of shape = [n_features]\\n        The feature importances (the higher, the more important the feature).\\n\\n    n_features_ : int\\n        The number of features when ``fit`` is performed.\\n\\n    n_outputs_ : int\\n        The number of outputs when ``fit`` is performed.\\n\\n    oob_score_ : float\\n        Score of the training dataset obtained using an out-of-bag estimate.\\n\\n    oob_prediction_ : array of shape = [n_samples]\\n        Prediction computed with out-of-bag estimate on the training set.\\n\\n    Examples\\n    --------\\n    >>> from sklearn.ensemble import RandomForestRegressor\\n    >>> from sklearn.datasets import make_regression\\n\\n    >>> X, y = make_regression(n_features=4, n_informative=2,\\n    ...                        random_state=0, shuffle=False)\\n    >>> regr = RandomForestRegressor(max_depth=2, random_state=0,\\n    ...                              n_estimators=100)\\n    >>> regr.fit(X, y)\\n    RandomForestRegressor(bootstrap=True, criterion=\\'mse\\', max_depth=2,\\n               max_features=\\'auto\\', max_leaf_nodes=None,\\n               min_impurity_decrease=0.0, min_impurity_split=None,\\n               min_samples_leaf=1, min_samples_split=2,\\n               min_weight_fraction_leaf=0.0, n_estimators=100, n_jobs=None,\\n               oob_score=False, random_state=0, verbose=0, warm_start=False)\\n    >>> print(regr.feature_importances_)\\n    [0.18146984 0.81473937 0.00145312 0.00233767]\\n    >>> print(regr.predict([[0, 0, 0, 0]]))\\n    [-8.32987858]\\n\\n    Notes\\n    -----\\n    The default values for the parameters controlling the size of the trees\\n    (e.g. ``max_depth``, ``min_samples_leaf``, etc.) lead to fully grown and\\n    unpruned trees which can potentially be very large on some data sets. To\\n    reduce memory consumption, the complexity and size of the trees should be\\n    controlled by setting those parameter values.\\n\\n    The features are always randomly permuted at each split. Therefore,\\n    the best found split may vary, even with the same training data,\\n    ``max_features=n_features`` and ``bootstrap=False``, if the improvement\\n    of the criterion is identical for several splits enumerated during the\\n    search of the best split. To obtain a deterministic behaviour during\\n    fitting, ``random_state`` has to be fixed.\\n\\n    The default value ``max_features=\"auto\"`` uses ``n_features`` \\n    rather than ``n_features / 3``. The latter was originally suggested in\\n    [1], whereas the former was more recently justified empirically in [2].\\n\\n    References\\n    ----------\\n\\n    .. [1] L. Breiman, \"Random Forests\", Machine Learning, 45(1), 5-32, 2001.\\n\\n    .. [2] P. Geurts, D. Ernst., and L. Wehenkel, \"Extremely randomized \\n           trees\", Machine Learning, 63(1), 3-42, 2006.\\n\\n    See also\\n    --------\\n    DecisionTreeRegressor, ExtraTreesRegressor\\n    '"
      ]
     },
     "execution_count": 47,
     "metadata": {},
     "output_type": "execute_result"
    }
   ],
   "source": [
    "RandomForestRegressor.__doc__"
   ]
  }
 ],
 "metadata": {
  "kernelspec": {
   "display_name": "Python 3",
   "language": "python",
   "name": "python3"
  },
  "language_info": {
   "codemirror_mode": {
    "name": "ipython",
    "version": 3
   },
   "file_extension": ".py",
   "mimetype": "text/x-python",
   "name": "python",
   "nbconvert_exporter": "python",
   "pygments_lexer": "ipython3",
   "version": "3.7.3"
  }
 },
 "nbformat": 4,
 "nbformat_minor": 2
}
